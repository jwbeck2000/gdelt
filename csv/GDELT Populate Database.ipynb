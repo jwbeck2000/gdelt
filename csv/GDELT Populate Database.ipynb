{
 "cells": [
  {
   "cell_type": "code",
   "execution_count": 3,
   "id": "industrial-score",
   "metadata": {},
   "outputs": [],
   "source": [
    "import psycopg2\n",
    "import config\n",
    "from configparser import ConfigParser"
   ]
  },
  {
   "cell_type": "markdown",
   "id": "median-group",
   "metadata": {},
   "source": [
    "### Connect to the PostgreSQL Database"
   ]
  },
  {
   "cell_type": "code",
   "execution_count": 15,
   "id": "parental-environment",
   "metadata": {},
   "outputs": [],
   "source": [
    "def config(filename='./Database/database.ini', section='postgresql'):\n",
    "    # create a parser\n",
    "    parser = ConfigParser()\n",
    "    # read config file\n",
    "    parser.read(filename)\n",
    "\n",
    "    # get section, default to postgresql\n",
    "    db = {}\n",
    "    if parser.has_section(section):\n",
    "        params = parser.items(section)\n",
    "        for param in params:\n",
    "            db[param[0]] = param[1]\n",
    "    else:\n",
    "        raise Exception('Section {0} not found in the {1} file'.format(section, filename))\n",
    "\n",
    "    return db"
   ]
  },
  {
   "cell_type": "code",
   "execution_count": 17,
   "id": "internal-inside",
   "metadata": {},
   "outputs": [
    {
     "name": "stdout",
     "output_type": "stream",
     "text": [
      "Connecting to the PostgreSQL database...\n",
      "Connected\n"
     ]
    }
   ],
   "source": [
    "# Connect to the PostgreSQL database server\n",
    "conn = None\n",
    "try:\n",
    "    # read connection parameters\n",
    "    params = config()\n",
    "\n",
    "    # connect to the PostgreSQL server\n",
    "    print('Connecting to the PostgreSQL database...')\n",
    "    conn = psycopg2.connect(**params)\n",
    "    conn.autocommit = True\n",
    "\n",
    "    # create a cursor\n",
    "    cur = conn.cursor()\n",
    "    print('Connected')\n",
    "\n",
    "except (Exception, psycopg2.DatabaseError) as error:\n",
    "    print(error)"
   ]
  },
  {
   "cell_type": "code",
   "execution_count": null,
   "id": "suitable-topic",
   "metadata": {},
   "outputs": [],
   "source": [
    "# This will create a new schema. The schema in PostgreSQL behaves in the same way as databases in other\n",
    "# relational database systems\n",
    "database = (\n",
    "    \"\"\"DROP SCHEMA IF EXISTS gdelt CASCADE;\"\"\",\n",
    "    \"\"\"CREATE SCHEMA gdelt;\"\"\"\n",
    ")\n",
    "\n",
    "# Execute the two database statements\n",
    "for data in database:\n",
    "    cur.execute(data)\n",
    "    \n",
    "# Commit the executed commands to the database (MUST BE PERFORMED!)    \n",
    "conn.commit()"
   ]
  },
  {
   "cell_type": "markdown",
   "id": "bulgarian-reverse",
   "metadata": {},
   "source": [
    "## Drop Existing Tables"
   ]
  },
  {
   "cell_type": "markdown",
   "id": "statutory-liquid",
   "metadata": {},
   "source": [
    "We are simply removing all of the tables to avoid any errors in building them in the next step."
   ]
  },
  {
   "cell_type": "code",
   "execution_count": null,
   "id": "monetary-reduction",
   "metadata": {},
   "outputs": [],
   "source": [
    "drops = (\n",
    "    \"\"\"DROP TABLE IF EXISTS gdelt.event;\"\"\",\n",
    "    \"\"\"DROP TABLE IF EXISTS gdelt.mention;\"\"\",\n",
    "    \"\"\"DROP TABLE IF EXISTS gdelt.domestic_generic_codes;\"\"\",\n",
    "    \"\"\"DROP TABLE IF EXISTS gdelt.ethnic_group_codes;\"\"\",\n",
    "    \"\"\"DROP TABLE IF EXISTS gdelt.event_base_codes;\"\"\",\n",
    "    \"\"\"DROP TABLE IF EXISTS gdelt.event_codes;\"\"\",\n",
    "    \"\"\"DROP TABLE IF EXISTS gdelt.event_root_codes;\"\"\",\n",
    "    \"\"\"DROP TABLE IF EXISTS gdelt.international_actor_special_codes;\"\"\",\n",
    "    \"\"\"DROP TABLE IF EXISTS gdelt.international_actor_generic_codes;\"\"\",\n",
    "    \"\"\"DROP TABLE IF EXISTS gdelt.international_region_codes;\"\"\",\n",
    "    \"\"\"DROP TABLE IF EXISTS gdelt.keds_project_actor_codes;\"\"\",\n",
    "    \"\"\"DROP TABLE IF EXISTS gdelt.main_ethnic_groups_in_keds_regional_dictionaries;\"\"\",\n",
    "    \"\"\"DROP TABLE IF EXISTS gdelt.religious_classification_system;\"\"\"\n",
    ")"
   ]
  },
  {
   "cell_type": "code",
   "execution_count": null,
   "id": "concrete-union",
   "metadata": {},
   "outputs": [],
   "source": [
    "# Execute the DROP commands\n",
    "for drop in drops:\n",
    "    cur.execute(drop)\n",
    "    \n",
    "# Commit the executed commands to the database (MUST BE PERFORMED!)    \n",
    "conn.commit()"
   ]
  },
  {
   "cell_type": "markdown",
   "id": "civilian-appeal",
   "metadata": {},
   "source": [
    "## Build the Database Tables"
   ]
  },
  {
   "cell_type": "markdown",
   "id": "environmental-speech",
   "metadata": {},
   "source": [
    "For each of the tables we will run one command to drop the table if it exists and then another command to build the table from scratch."
   ]
  },
  {
   "cell_type": "markdown",
   "id": "infectious-resource",
   "metadata": {},
   "source": [
    "### Event Table"
   ]
  },
  {
   "cell_type": "code",
   "execution_count": null,
   "id": "celtic-floor",
   "metadata": {},
   "outputs": [],
   "source": [
    "event = (\n",
    "    \n",
    "    \"\"\"\n",
    "    CREATE TABLE gdelt.event (\n",
    "        GlobalEventID, \n",
    "        Day VARCHAR(), \n",
    "        MonthYear VARCHAR(), \n",
    "        Year VARCHAR(), \n",
    "        FractionDate VARCHAR(), \n",
    "        Actor1Code VARCHAR(), \n",
    "        Actor1Name VARCHAR(), \n",
    "        Actor1CountryCode VARCHAR(), \n",
    "        Actor1KnownGroupCode VARCHAR(), \n",
    "        Actor1EthnicCode VARCHAR(), \n",
    "        Actor1Religion1Code VARCHAR(), \n",
    "        Actor1Religion2Code VARCHAR(), \n",
    "        Actor1Type1Code VARCHAR(), \n",
    "        Actor1Type2Code VARCHAR(), \n",
    "        Actor1Type3Code VARCHAR(), \n",
    "        Actor2Code VARCHAR(), \n",
    "        Actor2Name VARCHAR(), \n",
    "        Actor2CountryCode VARCHAR(), \n",
    "        Actor2KnownGroupCode VARCHAR(), \n",
    "        Actor2EthnicCode VARCHAR(), \n",
    "        Actor2Religion1Code VARCHAR(), \n",
    "        Actor2Religion2Code VARCHAR(), \n",
    "        Actor2Type1Code VARCHAR(), \n",
    "        Actor2Type2Code VARCHAR(), \n",
    "        Actor2Type3Code VARCHAR(), \n",
    "        IsRootEvent VARCHAR(), \n",
    "        EventCode VARCHAR(), \n",
    "        EventBaseCode VARCHAR(), \n",
    "        EventRootCode VARCHAR(), \n",
    "        QuadClass VARCHAR(), \n",
    "        GoldsteinScale VARCHAR(), \n",
    "        NumMentions VARCHAR(), \n",
    "        NumSources VARCHAR(), \n",
    "        NumArticles VARCHAR(), \n",
    "        AvgTone VARCHAR(), \n",
    "        Actor1Geo_Type VARCHAR(), \n",
    "        Actor1Geo_Fullname VARCHAR(), \n",
    "        Actor1Geo_CountryCode VARCHAR(), \n",
    "        Actor1Geo_ADM1Code VARCHAR(), \n",
    "        Actor1Geo_ADM2Code VARCHAR(), \n",
    "        Actor1Geo_Lat VARCHAR(), \n",
    "        Actor1Geo_Long VARCHAR(), \n",
    "        Actor1Geo_FeatureID VARCHAR(), \n",
    "        Actor2Geo_Type VARCHAR(), \n",
    "        Actor2Geo_Fullname VARCHAR(), \n",
    "        Actor2Geo_CountryCode VARCHAR(), \n",
    "        Actor2Geo_ADM1Code VARCHAR(), \n",
    "        Actor2Geo_ADM2Code VARCHAR(), \n",
    "        Actor2Geo_Lat VARCHAR(), \n",
    "        Actor2Geo_Long VARCHAR(), \n",
    "        Actor2Geo_FeatureID VARCHAR(), \n",
    "        ActionGeo_Type VARCHAR(), \n",
    "        ActionGeo_Fullname VARCHAR(), \n",
    "        ActionGeo_CountryCode VARCHAR(), \n",
    "        ActionGeo_ADM1Code VARCHAR(), \n",
    "        ActionGeo_ADM2Code VARCHAR(), \n",
    "        ActionGeo_Lat VARCHAR(), \n",
    "        ActionGeo_Long VARCHAR(), \n",
    "        ActionGeo_FeatureID VARCHAR(), \n",
    "        DATEADDED VARCHAR(), \n",
    "        SOURCEURL VARCHAR()\n",
    "    );\n",
    "    \"\"\"\n",
    ")\n",
    "\n",
    "# Execute the CREATE TABLE command\n",
    "cur.execute(event)\n",
    "    \n",
    "# Commit the executed command to the database (MUST BE PERFORMED!)    \n",
    "conn.commit()"
   ]
  },
  {
   "cell_type": "markdown",
   "id": "outer-guitar",
   "metadata": {},
   "source": [
    "### Mention Tables"
   ]
  },
  {
   "cell_type": "code",
   "execution_count": null,
   "id": "surprising-somalia",
   "metadata": {},
   "outputs": [],
   "source": [
    "mention = (\n",
    "\n",
    "    \"\"\"\n",
    "    CREATE TABLE gdelt.mention(\n",
    "        GlobalEventID VARCHAR(),\n",
    "        EventTimeDate VARCHAR(),\n",
    "        MentionTimeDate VARCHAR(),\n",
    "        MentionType VARCHAR(),\n",
    "        MentionSourceName VARCHAR(),\n",
    "        MentionIdentifier VARCHAR(),\n",
    "        SentenceID VARCHAR(),\n",
    "        Actor1CharOffset VARCHAR(),\n",
    "        Actor2CharOffset VARCHAR(),\n",
    "        ActionCharOffset VARCHAR(),\n",
    "        InRawText VARCHAR(),\n",
    "        Confidence VARCHAR(),\n",
    "        MentionDocLen VARCHAR(),\n",
    "        MentionDocTone VARCHAR(),\n",
    "        MentionDocTranslationInfo VARCHAR(),\n",
    "        Extras VARCHAR()\n",
    "    );\n",
    "    \"\"\"\n",
    ")\n",
    "\n",
    "cur.execute(mention)\n",
    "    \n",
    "conn.commit()"
   ]
  },
  {
   "cell_type": "markdown",
   "id": "aerial-concept",
   "metadata": {},
   "source": [
    "### Domestic Generic Codes Table"
   ]
  },
  {
   "cell_type": "code",
   "execution_count": null,
   "id": "relevant-synthesis",
   "metadata": {},
   "outputs": [],
   "source": [
    "dgc = (\n",
    "\n",
    "    \"\"\"\n",
    "    CREATE TABLE domestic_generic_codes (\n",
    "        code VARCHAR(3) NOT NULL,\n",
    "        code_desc VARCHAR(200),\n",
    "        role VARCHAR(20),\n",
    "        PRIMARY KEY (code)\n",
    "    );\n",
    "    \"\"\"\n",
    ")\n",
    "\n",
    "cur.execute(dgc)\n",
    "    \n",
    "conn.commit()"
   ]
  },
  {
   "cell_type": "markdown",
   "id": "consolidated-tennessee",
   "metadata": {},
   "source": [
    "### Ethnic Group Codes Table"
   ]
  },
  {
   "cell_type": "code",
   "execution_count": null,
   "id": "furnished-growing",
   "metadata": {},
   "outputs": [],
   "source": [
    "egc = (\n",
    "\n",
    "    \"\"\"\n",
    "    CREATE TABLE ethnic_group_codes (\n",
    "        ethnic_group_code VARCHAR(3) NOT NULL,\n",
    "        ethnic_group VARCHAR(35),\n",
    "        ethnic_group_countries VARCHAR(145),\n",
    "        PRIMARY KEY (ethnic_group_code)\n",
    "    );\n",
    "    \"\"\"\n",
    ")\n",
    "\n",
    "cur.execute(egc)\n",
    "    \n",
    "conn.commit()"
   ]
  },
  {
   "cell_type": "markdown",
   "id": "lightweight-treasure",
   "metadata": {},
   "source": [
    "### Event Base Codes Table"
   ]
  },
  {
   "cell_type": "code",
   "execution_count": null,
   "id": "accomplished-species",
   "metadata": {},
   "outputs": [],
   "source": [
    "ebc = (\n",
    "\n",
    "    \"\"\"\n",
    "    CREATE TABLE event_base_codes (\n",
    "        EventBaseCode CHAR(3) NOT NULL,\n",
    "        EventRootCode CHAR(2),\n",
    "        EventBaseCode_Desc VARCHAR(75),\n",
    "        PRIMARY KEY (EventBaseCode)\n",
    "    );\n",
    "    \"\"\"\n",
    ")\n",
    "\n",
    "cur.execute(ebc)\n",
    "    \n",
    "conn.commit()"
   ]
  },
  {
   "cell_type": "markdown",
   "id": "dental-holly",
   "metadata": {},
   "source": [
    "### Event Codes Table"
   ]
  },
  {
   "cell_type": "code",
   "execution_count": null,
   "id": "connected-blanket",
   "metadata": {},
   "outputs": [],
   "source": [
    "eventcodes = (\n",
    "\n",
    "    \"\"\"\n",
    "    CREATE TABLE event_codes (\n",
    "        EventCode VARCHAR(4) NOT NULL,\n",
    "        EventBaseCode VARCHAR(3),\n",
    "        EventRootCode VARCHAR(2),\n",
    "        EventCode_Desc VARCHAR(75),\n",
    "        PRIMARY KEY (EventCode)\n",
    "    );\n",
    "    \"\"\"\n",
    ")\n",
    "\n",
    "cur.execute(eventcodes)\n",
    "    \n",
    "conn.commit()"
   ]
  },
  {
   "cell_type": "markdown",
   "id": "basic-alliance",
   "metadata": {},
   "source": [
    "### Event Root Codes Table"
   ]
  },
  {
   "cell_type": "code",
   "execution_count": null,
   "id": "southern-journalist",
   "metadata": {},
   "outputs": [],
   "source": [
    "eventroot = (\n",
    "\n",
    "    \"\"\"\n",
    "    CREATE TABLE event_root_codes (\n",
    "        EventRootCode VARCHAR(2) NOT NULL,\n",
    "        EventRootCode_Desc VARCHAR(35),\n",
    "        PRIMARY KEY (EventRootCode)\n",
    "    );\n",
    "    \"\"\"\n",
    ")\n",
    "\n",
    "cur.execute(eventroot)\n",
    "    \n",
    "conn.commit()"
   ]
  },
  {
   "cell_type": "markdown",
   "id": "macro-insulin",
   "metadata": {},
   "source": [
    "### International Actor Special Codes Table"
   ]
  },
  {
   "cell_type": "code",
   "execution_count": null,
   "id": "national-dealing",
   "metadata": {},
   "outputs": [],
   "source": [
    "iasc = (\n",
    "\n",
    "    \"\"\"\n",
    "    CREATE TABLE international_actor_special_codes (\n",
    "        international_actor_special_code VARCHAR(10) NOT NULL,\n",
    "        international_actor_special VARCHAR(60),\n",
    "        international_actor_special_region VARCHAR(15),\n",
    "        PRIMARY KEY (international_actor_special_code)\n",
    "    );\n",
    "    \"\"\"\n",
    ")\n",
    "\n",
    "cur.execute(iasc)\n",
    "    \n",
    "conn.commit()"
   ]
  },
  {
   "cell_type": "markdown",
   "id": "committed-frost",
   "metadata": {},
   "source": [
    "### International Actor Generic Codes Table"
   ]
  },
  {
   "cell_type": "code",
   "execution_count": null,
   "id": "invalid-package",
   "metadata": {},
   "outputs": [],
   "source": [
    "iagc = (\n",
    "\n",
    "    \"\"\"\n",
    "    CREATE TABLE international_actor_generic_codes (\n",
    "        international_actor_generic_code VARCHAR(3) NOT NULL,\n",
    "        international_actor_generic VARCHAR(100),\n",
    "        international_actor_generic_example VARCHAR(60),\n",
    "        international_actor_generic_full_code VARCHAR(25)\n",
    "        PRIMARY KEY (international_actor_generic_code)\n",
    "    );\n",
    "    \"\"\"\n",
    ")\n",
    "\n",
    "cur.execute(iagc)\n",
    "    \n",
    "conn.commit()"
   ]
  },
  {
   "cell_type": "markdown",
   "id": "mathematical-feeding",
   "metadata": {},
   "source": [
    "### International Region Codes Table"
   ]
  },
  {
   "cell_type": "code",
   "execution_count": null,
   "id": "impressive-scientist",
   "metadata": {},
   "outputs": [],
   "source": [
    "irc = (\n",
    "\n",
    "    \"\"\"\n",
    "    CREATE TABLE international_region_codes (\n",
    "        region_code VARCHAR(3) NOT NULL,\n",
    "        region VARCHAR(20)\n",
    "        PRIMARY KEY (region_code)\n",
    "    );\n",
    "    \"\"\"\n",
    ")\n",
    "\n",
    "cur.execute(irc)\n",
    "    \n",
    "conn.commit()"
   ]
  },
  {
   "cell_type": "markdown",
   "id": "fc19eb40",
   "metadata": {},
   "source": [
    "### Keds Project Actor Codes Table"
   ]
  },
  {
   "cell_type": "code",
   "execution_count": null,
   "id": "a3d2918b",
   "metadata": {},
   "outputs": [],
   "source": [
    "kpac = (\n",
    "\n",
    "    \"\"\"\n",
    "    CREATE TABLE keds_project_actor_codes (\n",
    "        keds_project_actor_code VARCHAR(15) NOT NULL,\n",
    "        keds_project_actor VARCHAR(60),\n",
    "        PRIMARY KEY (keds_project_actor_code)\n",
    "    );\n",
    "    \"\"\"\n",
    ")\n",
    "\n",
    "cur.execute(kpac)\n",
    "\n",
    "conn.commit()"
   ]
  },
  {
   "cell_type": "markdown",
   "id": "09550778",
   "metadata": {},
   "source": [
    "### Main Ethnic Groups in keds Regional Dictionaries Table"
   ]
  },
  {
   "cell_type": "code",
   "execution_count": null,
   "id": "0c06eaa6",
   "metadata": {},
   "outputs": [],
   "source": [
    "megkrd = (\n",
    "\n",
    "    \"\"\"\n",
    "    CREATE TABLE main_ethnic_groups_in_keds_regional_dictionaries (\n",
    "        ethnic_group_code VARCHAR(3) NOT NULL,\n",
    "        ethnic_group VARCHAR(15),\n",
    "        PRIMARY KEY (ethnic_group_code)\n",
    "    );\n",
    "    \"\"\"\n",
    ")\n",
    "\n",
    "cur.execute(megkrd)\n",
    "\n",
    "conn.commit()"
   ]
  },
  {
   "cell_type": "markdown",
   "id": "e08a2e3b",
   "metadata": {},
   "source": [
    "### Religious Classification System Table"
   ]
  },
  {
   "cell_type": "code",
   "execution_count": null,
   "id": "0e1d5c40",
   "metadata": {},
   "outputs": [],
   "source": [
    "rcst = (\n",
    "\n",
    "    \"\"\"\n",
    "    CREATE TABLE religious_classification_system (\n",
    "        Hierarchical_Code VARCHAR(20) NOT NULL,\n",
    "        Religion_and_Comments VARCHAR(120),\n",
    "        PRIMARY KEY (Hierarchical_Code)\n",
    "    );\n",
    "    \"\"\"\n",
    ")\n",
    "\n",
    "cur.execute(rcst)\n",
    "\n",
    "conn.commit()"
   ]
  },
  {
   "cell_type": "markdown",
   "id": "hairy-rwanda",
   "metadata": {},
   "source": [
    "### Event Data"
   ]
  },
  {
   "cell_type": "code",
   "execution_count": null,
   "id": "accompanied-islam",
   "metadata": {},
   "outputs": [],
   "source": [
    "copy_sql = \"\"\"\n",
    "           COPY acled.event FROM stdin WITH CSV HEADER\n",
    "           DELIMITER as ','\n",
    "           \"\"\"\n",
    "with open('../ACLED/inputs/event.csv', 'r') as f:\n",
    "    cur.copy_expert(sql=copy_sql, file=f)\n",
    "    conn.commit()"
   ]
  },
  {
   "cell_type": "markdown",
   "id": "equal-insulation",
   "metadata": {},
   "source": [
    "### Event Type Data"
   ]
  },
  {
   "cell_type": "code",
   "execution_count": null,
   "id": "driving-carry",
   "metadata": {},
   "outputs": [],
   "source": [
    "copy_sql = \"\"\"\n",
    "           COPY acled.event_type FROM stdin WITH CSV HEADER\n",
    "           DELIMITER as ','\n",
    "           \"\"\"\n",
    "with open('../ACLED/inputs/event_type.csv', 'r') as f:\n",
    "    cur.copy_expert(sql=copy_sql, file=f)\n",
    "    conn.commit()"
   ]
  },
  {
   "cell_type": "markdown",
   "id": "intellectual-effort",
   "metadata": {},
   "source": [
    "### Sub Event Type Data"
   ]
  },
  {
   "cell_type": "code",
   "execution_count": null,
   "id": "little-biotechnology",
   "metadata": {},
   "outputs": [],
   "source": [
    "copy_sql = \"\"\"\n",
    "           COPY acled.sub_event_type FROM stdin WITH CSV HEADER\n",
    "           DELIMITER as ','\n",
    "           \"\"\"\n",
    "with open('../ACLED/inputs/sub_event_type.csv', 'r') as f:\n",
    "    cur.copy_expert(sql=copy_sql, file=f)\n",
    "    conn.commit()"
   ]
  },
  {
   "cell_type": "markdown",
   "id": "compatible-certificate",
   "metadata": {},
   "source": [
    "### Actor Data"
   ]
  },
  {
   "cell_type": "code",
   "execution_count": null,
   "id": "automated-circumstances",
   "metadata": {},
   "outputs": [],
   "source": [
    "copy_sql = \"\"\"\n",
    "           COPY acled.actor FROM stdin WITH CSV HEADER\n",
    "           DELIMITER as ','\n",
    "           \"\"\"\n",
    "with open('../ACLED/outputs/actor.csv', 'r') as f:\n",
    "    cur.copy_expert(sql=copy_sql, file=f)\n",
    "    conn.commit()"
   ]
  },
  {
   "cell_type": "markdown",
   "id": "otherwise-mystery",
   "metadata": {},
   "source": [
    "### Associated Actor Data"
   ]
  },
  {
   "cell_type": "code",
   "execution_count": null,
   "id": "foster-microphone",
   "metadata": {},
   "outputs": [],
   "source": [
    "copy_sql = \"\"\"\n",
    "           COPY acled.assoc_actor FROM stdin WITH CSV HEADER\n",
    "           DELIMITER as ','\n",
    "           \"\"\"\n",
    "with open('../ACLED/outputs/assoc_actor.csv', 'r') as f:\n",
    "    cur.copy_expert(sql=copy_sql, file=f)\n",
    "    conn.commit()"
   ]
  },
  {
   "cell_type": "markdown",
   "id": "mobile-flash",
   "metadata": {},
   "source": [
    "### Interaction Code Data"
   ]
  },
  {
   "cell_type": "code",
   "execution_count": null,
   "id": "likely-collect",
   "metadata": {},
   "outputs": [],
   "source": [
    "copy_sql = \"\"\"\n",
    "           COPY acled.inter_code FROM stdin WITH CSV HEADER\n",
    "           DELIMITER as ','\n",
    "           \"\"\"\n",
    "with open('../ACLED/inputs/inter_code.csv', 'r') as f:\n",
    "    cur.copy_expert(sql=copy_sql, file=f)\n",
    "    conn.commit()"
   ]
  },
  {
   "cell_type": "markdown",
   "id": "annoying-impression",
   "metadata": {},
   "source": [
    "### Interactions Data"
   ]
  },
  {
   "cell_type": "code",
   "execution_count": null,
   "id": "bulgarian-remove",
   "metadata": {},
   "outputs": [],
   "source": [
    "copy_sql = \"\"\"\n",
    "           COPY acled.interaction FROM stdin WITH CSV HEADER\n",
    "           DELIMITER as ','\n",
    "           \"\"\"\n",
    "with open('../ACLED/inputs/interaction.csv', 'r') as f:\n",
    "    cur.copy_expert(sql=copy_sql, file=f)\n",
    "    conn.commit()"
   ]
  },
  {
   "cell_type": "markdown",
   "id": "stylish-telling",
   "metadata": {},
   "source": [
    "### Source Data"
   ]
  },
  {
   "cell_type": "code",
   "execution_count": null,
   "id": "found-wesley",
   "metadata": {},
   "outputs": [],
   "source": [
    "copy_sql = \"\"\"\n",
    "           COPY acled.source FROM stdin WITH CSV HEADER\n",
    "           DELIMITER as ','\n",
    "           \"\"\"\n",
    "with open('../ACLED/outputs/source.csv', 'r') as f:\n",
    "    cur.copy_expert(sql=copy_sql, file=f)\n",
    "    conn.commit()"
   ]
  },
  {
   "cell_type": "markdown",
   "id": "adjacent-yemen",
   "metadata": {},
   "source": [
    "### Source Scale Data"
   ]
  },
  {
   "cell_type": "code",
   "execution_count": null,
   "id": "becoming-jacksonville",
   "metadata": {},
   "outputs": [],
   "source": [
    "copy_sql = \"\"\"\n",
    "           COPY acled.source_scale FROM stdin WITH CSV HEADER\n",
    "           DELIMITER as ','\n",
    "           \"\"\"\n",
    "with open('../ACLED/outputs/source_scale.csv', 'r') as f:\n",
    "    cur.copy_expert(sql=copy_sql, file=f)\n",
    "    conn.commit()"
   ]
  },
  {
   "cell_type": "markdown",
   "id": "express-currency",
   "metadata": {},
   "source": [
    "### ACLED Data"
   ]
  },
  {
   "cell_type": "code",
   "execution_count": null,
   "id": "postal-starter",
   "metadata": {},
   "outputs": [],
   "source": [
    "copy_sql = \"\"\"\n",
    "           COPY acled.acled FROM stdin WITH CSV HEADER\n",
    "           DELIMITER as ','\n",
    "           \"\"\"\n",
    "with open('../ACLED/outputs/acled.csv', 'r') as f:\n",
    "    cur.copy_expert(sql=copy_sql, file=f)\n",
    "    conn.commit()"
   ]
  },
  {
   "cell_type": "markdown",
   "id": "hybrid-marsh",
   "metadata": {},
   "source": [
    "## Remove CSV Output Files"
   ]
  },
  {
   "cell_type": "code",
   "execution_count": null,
   "id": "informational-depression",
   "metadata": {},
   "outputs": [],
   "source": [
    "import os"
   ]
  },
  {
   "cell_type": "code",
   "execution_count": null,
   "id": "covered-morgan",
   "metadata": {},
   "outputs": [],
   "source": [
    "# We will remove the output file now that its data is in the database\n",
    "os.remove('../ACLED/outputs/acled.csv')\n",
    "os.remove('../ACLED/outputs/actor.csv')\n",
    "os.remove('../ACLED/outputs/assoc_actor.csv')\n",
    "os.remove('../ACLED/outputs/source_scale.csv')\n",
    "os.remove('../ACLED/outputs/source.csv')"
   ]
  },
  {
   "cell_type": "markdown",
   "id": "postal-warner",
   "metadata": {},
   "source": [
    "### Disconnect from Database"
   ]
  },
  {
   "cell_type": "code",
   "execution_count": 18,
   "id": "deluxe-pottery",
   "metadata": {},
   "outputs": [],
   "source": [
    "try: \n",
    "    # close the communication with the PostgreSQL\n",
    "    cur.close()\n",
    "    \n",
    "    # close the connection with the database\n",
    "    conn.close()\n",
    "except (Exception, psycopg2.DatabaseError) as error:\n",
    "    print(error)\n",
    "        "
   ]
  },
  {
   "cell_type": "code",
   "execution_count": null,
   "id": "constitutional-employer",
   "metadata": {},
   "outputs": [],
   "source": []
  }
 ],
 "metadata": {
  "kernelspec": {
   "display_name": "Python 3 (ipykernel)",
   "language": "python",
   "name": "python3"
  },
  "language_info": {
   "codemirror_mode": {
    "name": "ipython",
    "version": 3
   },
   "file_extension": ".py",
   "mimetype": "text/x-python",
   "name": "python",
   "nbconvert_exporter": "python",
   "pygments_lexer": "ipython3",
   "version": "3.9.6"
  }
 },
 "nbformat": 4,
 "nbformat_minor": 5
}
